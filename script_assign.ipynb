{
 "cells": [
  {
   "cell_type": "code",
   "execution_count": null,
   "metadata": {},
   "outputs": [],
   "source": [
    "import subprocess\n",
    "import os\n",
    "os.chdir(r\"C:\\Users\\rashid\\Desktop\")"
   ]
  },
  {
   "cell_type": "code",
   "execution_count": 23,
   "metadata": {},
   "outputs": [
    {
     "name": "stdout",
     "output_type": "stream",
     "text": [
      "Please Enter Urlrestcountries.eu/rest/v2/all\n"
     ]
    }
   ],
   "source": [
    "url = input(\"Please Enter Url\")"
   ]
  },
  {
   "cell_type": "code",
   "execution_count": 4,
   "metadata": {},
   "outputs": [],
   "source": [
    "liist=list(url)"
   ]
  },
  {
   "cell_type": "code",
   "execution_count": 8,
   "metadata": {},
   "outputs": [],
   "source": [
    "list_hn=[]\n",
    "i=0\n",
    "while((liist[i] and liist[i+1])=='/'):\n",
    "    list_hn.append(liist[i])\n",
    "    i=i+1"
   ]
  },
  {
   "cell_type": "code",
   "execution_count": 9,
   "metadata": {},
   "outputs": [
    {
     "data": {
      "text/plain": [
       "[]"
      ]
     },
     "execution_count": 9,
     "metadata": {},
     "output_type": "execute_result"
    }
   ],
   "source": [
    "list_hn"
   ]
  },
  {
   "cell_type": "code",
   "execution_count": null,
   "metadata": {},
   "outputs": [],
   "source": [
    "with open(\"result.txt\" ,'w') as file:\n",
    "    file.write(\"This is the response of all the pings to webhosts\")"
   ]
  },
  {
   "cell_type": "code",
   "execution_count": null,
   "metadata": {},
   "outputs": [],
   "source": [
    "with open(\"result.txt\",'ab') as resp:\n",
    "    resp.write(subprocess.check_output(\"ping url_host\"))"
   ]
  },
  {
   "cell_type": "code",
   "execution_count": null,
   "metadata": {},
   "outputs": [],
   "source": []
  },
  {
   "cell_type": "code",
   "execution_count": null,
   "metadata": {},
   "outputs": [],
   "source": []
  },
  {
   "cell_type": "code",
   "execution_count": 14,
   "metadata": {},
   "outputs": [],
   "source": [
    "import subprocess\n",
    "import os\n",
    "os.chdir(r\"C:\\Users\\rashid\\Desktop\")"
   ]
  },
  {
   "cell_type": "code",
   "execution_count": 15,
   "metadata": {
    "scrolled": true
   },
   "outputs": [],
   "source": [
    "with open(\"online.txt\", 'wb') as file:\n",
    "    file.write(subprocess.check_output(\"ping www.restcountries.eu\"))"
   ]
  },
  {
   "cell_type": "code",
   "execution_count": 16,
   "metadata": {},
   "outputs": [
    {
     "name": "stdout",
     "output_type": "stream",
     "text": [
      "b'\\r\\n'\n",
      "b'Pinging www.restcountries.eu [104.27.143.88] with 32 bytes of data:\\r\\n'\n",
      "b'Reply from 104.27.143.88: bytes=32 time=369ms TTL=52\\r\\n'\n",
      "b'Reply from 104.27.143.88: bytes=32 time=326ms TTL=52\\r\\n'\n",
      "b'Reply from 104.27.143.88: bytes=32 time=284ms TTL=52\\r\\n'\n",
      "b'Reply from 104.27.143.88: bytes=32 time=279ms TTL=52\\r\\n'\n"
     ]
    }
   ],
   "source": [
    "with open (\"online.txt\", 'rb') as tf:\n",
    "    print(tf.readline())\n",
    "    print(tf.readline())\n",
    "    print(tf.readline())\n",
    "    print(tf.readline())\n",
    "    print(tf.readline())\n",
    "    print(tf.readline())"
   ]
  },
  {
   "cell_type": "code",
   "execution_count": 7,
   "metadata": {},
   "outputs": [
    {
     "ename": "ValueError",
     "evalue": "read of closed file",
     "output_type": "error",
     "traceback": [
      "\u001b[1;31m---------------------------------------------------------------------------\u001b[0m",
      "\u001b[1;31mValueError\u001b[0m                                Traceback (most recent call last)",
      "\u001b[1;32m<ipython-input-7-ef69aa0ef3e5>\u001b[0m in \u001b[0;36m<module>\u001b[1;34m()\u001b[0m\n\u001b[1;32m----> 1\u001b[1;33m \u001b[0mtf\u001b[0m\u001b[1;33m.\u001b[0m\u001b[0mread\u001b[0m\u001b[1;33m(\u001b[0m\u001b[1;33m)\u001b[0m\u001b[1;33m\u001b[0m\u001b[0m\n\u001b[0m",
      "\u001b[1;31mValueError\u001b[0m: read of closed file"
     ]
    }
   ],
   "source": [
    "tf.read()"
   ]
  },
  {
   "cell_type": "code",
   "execution_count": null,
   "metadata": {},
   "outputs": [],
   "source": []
  }
 ],
 "metadata": {
  "kernelspec": {
   "display_name": "Python 3",
   "language": "python",
   "name": "python3"
  },
  "language_info": {
   "codemirror_mode": {
    "name": "ipython",
    "version": 3
   },
   "file_extension": ".py",
   "mimetype": "text/x-python",
   "name": "python",
   "nbconvert_exporter": "python",
   "pygments_lexer": "ipython3",
   "version": "3.7.0"
  }
 },
 "nbformat": 4,
 "nbformat_minor": 2
}
