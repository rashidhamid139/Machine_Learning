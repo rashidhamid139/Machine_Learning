{
 "cells": [
  {
   "cell_type": "markdown",
   "metadata": {},
   "source": [
    "standard scaler assumes your data is normally distributed\n"
   ]
  },
  {
   "cell_type": "code",
   "execution_count": 3,
   "metadata": {},
   "outputs": [],
   "source": [
    "from collections import defaultdict\n",
    "import operator\n",
    "\n",
    "THRESHOLD = 1000\n",
    "\n",
    "item_counts = defaultdict(int)\n",
    "pair_counts = defaultdict(int)\n",
    "triple_counts = defaultdict(int)"
   ]
  },
  {
   "cell_type": "code",
   "execution_count": 5,
   "metadata": {},
   "outputs": [
    {
     "data": {
      "text/plain": [
       "collections.defaultdict"
      ]
     },
     "execution_count": 5,
     "metadata": {},
     "output_type": "execute_result"
    }
   ],
   "source": [
    "type(triple_counts)"
   ]
  },
  {
   "cell_type": "code",
   "execution_count": null,
   "metadata": {},
   "outputs": [],
   "source": [
    "\n",
    "\n",
    "# read in the data\n",
    "with open('./dataset_100000_baskets_5000_objects.txt') as f:\n",
    "    lines = f.readlines()\n",
    "f.close()\n",
    "\n",
    "def normalize_group(*args):\n",
    "    return str(sorted(args))\n",
    "\n",
    "def generate_pairs(*args):\n",
    "    pairs = []\n",
    "    for idx_1 in range(len(args) - 1):\n",
    "        for idx_2 in range(idx_1 + 1, len(args)):\n",
    "            pairs.append(normalize_group(args[idx_1], args[idx_2]))\n",
    "    return pairs\n",
    "\n",
    "# FIRST PASS -----------------------------------------\n",
    "\n",
    "# first pass - find candidate items\n",
    "for line in lines:\n",
    "    for item in line.split():\n",
    "        item_counts[item] += 1\n",
    "\n",
    "# first pass - find frequent items\n",
    "frequent_items = set()\n",
    "for key in item_counts:\n",
    "    if item_counts[key] > THRESHOLD:\n",
    "        frequent_items.add(key)\n",
    "\n",
    "print('There are {0} unique items, {1} of which are frequent'.format(len(item_counts), len(frequent_items)))\n",
    "\n",
    "# SECOND PASS -----------------------------------------\n",
    "\n",
    "# second pass - find candidate pairs\n",
    "# when building candidate pairs, only consider frequent items\n",
    "for line in lines:\n",
    "    items = line.split()\n",
    "    for idx_1 in range(len(items) - 1):\n",
    "        if items[idx_1] not in frequent_items:\n",
    "            continue\n",
    "        for idx_2 in range(idx_1 + 1, len(items)):\n",
    "            if items[idx_2] not in frequent_items:\n",
    "                continue\n",
    "            pair = normalize_group(items[idx_1], items[idx_2]) # this way [a, b] is the same as [b, a]\n",
    "            pair_counts[pair] += 1\n",
    "\n",
    "# second pass - find frequent pairs\n",
    "frequent_pairs = set()\n",
    "for key in pair_counts:\n",
    "    if pair_counts[key] > THRESHOLD:\n",
    "        frequent_pairs.add(key)\n",
    "\n",
    "print('There are {0} candidate pairs, {1} of which are frequent'.format(len(pair_counts), len(frequent_pairs)))\n",
    "\n",
    "# THIRD PASS -----------------------------------------\n",
    "\n",
    "# third pass - find candidate triples\n",
    "# when building candidate triples, only consider frequent items and pairs\n",
    "for line in lines:\n",
    "    items = line.split()\n",
    "    for idx_1 in range(len(items) - 2):\n",
    "        if items[idx_1] not in frequent_items: # first item must be frequent\n",
    "            continue\n",
    "        for idx_2 in range(idx_1 + 1, len(items) - 1):\n",
    "            first_pair = normalize_group(items[idx_1], items[idx_2])\n",
    "            if items[idx_2] not in frequent_items or first_pair not in frequent_pairs: # second item AND first pair must be frequent\n",
    "                continue\n",
    "            for idx_3 in range(idx_2 + 1, len(items)):\n",
    "                if items[idx_3] not in frequent_items:\n",
    "                    continue\n",
    "                # now check that all pairs are frequent, since this is a precondition to being a frequent triple\n",
    "                pairs = generate_pairs(items[idx_1], items[idx_2], items[idx_3])\n",
    "                if any(pair not in frequent_pairs for pair in pairs):\n",
    "                    continue\n",
    "                triple = normalize_group(items[idx_1], items[idx_2], items[idx_3])\n",
    "                triple_counts[triple] += 1\n",
    "\n",
    "num_candidate_triples = len(triple_counts) # before filtering\n",
    "triple_counts = { k: v for k, v in triple_counts.items() if v > THRESHOLD } # filter for frequent triples\n",
    "print('There are {0} candidate triples, {1} of which are frequent'.format(num_candidate_triples, len(triple_counts)))\n",
    "\n",
    "# VIEW OUR RESULTS -------------------------------------\n",
    "print('--------------')\n",
    "sorted_triples = sorted(triple_counts.items(), key=operator.itemgetter(1))\n",
    "\n",
    "for entry in sorted_triples:\n",
    "    print('{0}: {1}'.format(entry[0], entry[1]))\n"
   ]
  }
 ],
 "metadata": {
  "kernelspec": {
   "display_name": "Python 3",
   "language": "python",
   "name": "python3"
  },
  "language_info": {
   "codemirror_mode": {
    "name": "ipython",
    "version": 3
   },
   "file_extension": ".py",
   "mimetype": "text/x-python",
   "name": "python",
   "nbconvert_exporter": "python",
   "pygments_lexer": "ipython3",
   "version": "3.7.0"
  }
 },
 "nbformat": 4,
 "nbformat_minor": 2
}
